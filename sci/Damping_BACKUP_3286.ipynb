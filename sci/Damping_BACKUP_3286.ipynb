{
 "cells": [
  {
   "cell_type": "markdown",
   "metadata": {
    "nbpresent": {
     "id": "9b2a77bd-f461-4dec-a3ab-9bef02de8133"
    },
    "slideshow": {
     "slide_type": "-"
    }
   },
   "source": [
    "# Damped Harmonic Motion"
   ]
  },
  {
   "cell_type": "markdown",
   "metadata": {},
   "source": [
    "This notebook provides an interactive environment to explore the concepts of damped harmonic motion"
   ]
  },
  {
   "cell_type": "code",
<<<<<<< HEAD
   "execution_count": 217,
=======
   "execution_count": 7,
>>>>>>> 45249447660e4302b022c32eace16c1ab19adb9d
   "metadata": {
    "collapsed": true,
    "nbpresent": {
     "id": "9984f366-85dd-4bd5-a536-3e1eb1d5e7e3"
    },
    "slideshow": {
     "slide_type": "skip"
    }
   },
   "outputs": [],
   "source": [
    "from IPython.display import HTML"
   ]
  },
  {
   "cell_type": "code",
<<<<<<< HEAD
   "execution_count": 218,
=======
   "execution_count": 8,
>>>>>>> 45249447660e4302b022c32eace16c1ab19adb9d
   "metadata": {
    "collapsed": false
   },
   "outputs": [
    {
     "data": {
      "text/html": [
       "<script>\n",
       "    // AUTORUN ALL CELLS ON NOTEBOOK-LOAD!\n",
       "    require(\n",
       "        ['base/js/namespace', 'jquery'], \n",
       "        function(jupyter, $) {\n",
       "            $(jupyter.events).on(\"kernel_ready.Kernel\", function () {\n",
       "                console.log(\"Auto-running all cells-below...\");\n",
       "                jupyter.actions.call('jupyter-notebook:run-all-cells-below');\n",
       "                jupyter.actions.call('jupyter-notebook:save-notebook');\n",
       "            });\n",
       "        }\n",
       "    );\n",
       "</script>"
      ],
      "text/plain": [
       "<IPython.core.display.HTML object>"
      ]
     },
     "metadata": {},
     "output_type": "display_data"
    }
   ],
   "source": [
    "%%html\n",
    "<script>\n",
    "    // AUTORUN ALL CELLS ON NOTEBOOK-LOAD!\n",
    "    require(\n",
    "        ['base/js/namespace', 'jquery'], \n",
    "        function(jupyter, $) {\n",
    "            $(jupyter.events).on(\"kernel_ready.Kernel\", function () {\n",
    "                console.log(\"Auto-running all cells-below...\");\n",
    "                jupyter.actions.call('jupyter-notebook:run-all-cells-below');\n",
    "                jupyter.actions.call('jupyter-notebook:save-notebook');\n",
    "            });\n",
    "        }\n",
    "    );\n",
    "</script>"
   ]
  },
  {
   "cell_type": "code",
<<<<<<< HEAD
   "execution_count": 219,
=======
   "execution_count": 9,
>>>>>>> 45249447660e4302b022c32eace16c1ab19adb9d
   "metadata": {
    "collapsed": false,
    "nbpresent": {
     "id": "c8184770-285e-4936-bb25-af98b542d5d3"
    },
    "slideshow": {
     "slide_type": "skip"
    }
   },
   "outputs": [
    {
     "data": {
      "text/html": [
       "<script>\n",
       "code_show=true; \n",
       "function code_toggle() {\n",
       " if (code_show){\n",
       " $('div.input').hide();\n",
       " } else {\n",
       " $('div.input').show();\n",
       " }\n",
       " code_show = !code_show\n",
       "} \n",
       "$( document ).ready(code_toggle);\n",
       "</script>\n",
       "The raw code for this IPython notebook is by default hidden for easier reading.\n",
       "To toggle on/off the raw code, click <a href=\"javascript:code_toggle()\">here</a>."
      ],
      "text/plain": [
       "<IPython.core.display.HTML object>"
      ]
     },
<<<<<<< HEAD
     "execution_count": 219,
=======
     "execution_count": 9,
>>>>>>> 45249447660e4302b022c32eace16c1ab19adb9d
     "metadata": {},
     "output_type": "execute_result"
    }
   ],
   "source": [
    "HTML('''<script>\n",
    "code_show=true; \n",
    "function code_toggle() {\n",
    " if (code_show){\n",
    " $('div.input').hide();\n",
    " } else {\n",
    " $('div.input').show();\n",
    " }\n",
    " code_show = !code_show\n",
    "} \n",
    "$( document ).ready(code_toggle);\n",
    "</script>\n",
    "The raw code for this IPython notebook is by default hidden for easier reading.\n",
    "To toggle on/off the raw code, click <a href=\"javascript:code_toggle()\">here</a>.''')"
   ]
  },
  {
   "cell_type": "code",
<<<<<<< HEAD
   "execution_count": 220,
=======
   "execution_count": 10,
>>>>>>> 45249447660e4302b022c32eace16c1ab19adb9d
   "metadata": {
    "collapsed": false,
    "nbpresent": {
     "id": "ab70a903-a94f-4d51-92ab-bb4422942eeb"
    },
    "slideshow": {
     "slide_type": "skip"
    }
   },
   "outputs": [],
   "source": [
    "%matplotlib inline\n",
    "\n",
    "from ipywidgets import *\n",
    "from scipy import integrate\n",
    "import numpy as np\n",
    "import matplotlib.pyplot as plt\n",
    "t = np.arange(0,2*np.pi,0.01)"
   ]
  },
  {
   "cell_type": "markdown",
   "metadata": {},
   "source": [
    "In real oscillators, friction, or damping, slows the motion of the system. Due to frictional force, the velocity decreases in proportion to the acting frictional force. While simple harmonic motion oscillates with only the restoring force acting on the system, damped harmonic motion experiences friction.  \n",
    "  \n",
    "**Equation for DHM:** \n",
    "$$\\ddot{x} + \\gamma\\dot{x}+{\\omega_{0}}^{2} x = 0$$  \n",
    "  \n",
    "where $\\gamma$ is a coeficient given by:  \n",
    "$$\\gamma = \\frac{b}{m}$$  \n",
    "$b$ is the damping constant "
   ]
  },
  {
   "cell_type": "code",
   "execution_count": null,
   "metadata": {
    "collapsed": true
   },
   "outputs": [],
   "source": []
  },
  {
   "cell_type": "code",
   "execution_count": 221,
   "metadata": {
    "collapsed": true
   },
   "outputs": [],
   "source": [
    "def dampeq(Y, t, omega, gamma):\n",
    "    return [Y[1], -(omega**2)* Y[0]-gamma*Y[1]]"
   ]
  },
  {
   "cell_type": "code",
<<<<<<< HEAD
   "execution_count": 222,
=======
   "execution_count": 11,
>>>>>>> 45249447660e4302b022c32eace16c1ab19adb9d
   "metadata": {
    "collapsed": false,
    "nbpresent": {
     "id": "e7bd4568-f40d-4200-a57d-51838ccdc9d6"
    },
    "slideshow": {
     "slide_type": "skip"
    }
   },
   "outputs": [],
   "source": [
    "\n",
    "def damp(critical, omega, gamma):\n",
    "    global t\n",
    "    if critical == 'on':\n",
    "        omega = np.sqrt((gamma**2)/4)\n",
    "    asol = integrate.odeint(dampeq, [1, 0], t, args=(omega, gamma))\n",
    "    fig = plt.plot(t, asol[:,0])\n",
    "    plt.ylim(-1.1,1.1)\n",
    "    plt.xlim(0, 2*np.pi)\n",
    "    plt.xlabel(\"time, s\")\n",
    "    plt.ylabel(\"Amplitude, arb\")\n",
    "    if critical == 'on':\n",
    "        plt.setp(fig, color='g', linewidth=2.0)\n",
    "        plt.legend(['Critical damping'], loc=3)\n",
    "    elif (gamma**2)/4 > omega**2:\n",
    "        plt.setp(fig, color='r', linewidth=2.0)\n",
    "        plt.legend(['Over damping'], loc=3)\n",
    "    else:\n",
    "        plt.setp(fig, color='b', linewidth=2.0)\n",
    "        plt.legend(['Under damping'], loc=3)"
   ]
  },
  {
   "cell_type": "code",
<<<<<<< HEAD
   "execution_count": 223,
=======
   "execution_count": 12,
>>>>>>> 45249447660e4302b022c32eace16c1ab19adb9d
   "metadata": {
    "collapsed": false,
    "nbpresent": {
     "id": "438e877f-2c5c-4d4e-8b4d-22af752dcb18"
    },
    "scrolled": false,
    "slideshow": {
     "slide_type": "slide"
    }
   },
   "outputs": [
    {
     "data": {
<<<<<<< HEAD
      "image/png": "iVBORw0KGgoAAAANSUhEUgAAAh4AAAFyCAYAAAC6HdP2AAAABHNCSVQICAgIfAhkiAAAAAlwSFlz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\nIEsYpQAAAABJRU5ErkJggg==\n",
      "text/plain": [
       "<matplotlib.figure.Figure at 0x10e3bd4d0>"
=======
      "image/png": "iVBORw0KGgoAAAANSUhEUgAAAl4AAAFCCAYAAAAg3dP7AAAABHNCSVQICAgIfAhkiAAAAAlwSFlz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\nAAAAAElFTkSuQmCC\n",
      "text/plain": [
       "<matplotlib.figure.Figure at 0x7fe692bd51d0>"
>>>>>>> 45249447660e4302b022c32eace16c1ab19adb9d
      ]
     },
     "metadata": {},
     "output_type": "display_data"
    }
   ],
   "source": [
    "interact(damp, critical = RadioButtons(options = ['off', 'on']), omega =(0,10,0.1), gamma = (0,20,0.1));"
   ]
  },
  {
   "cell_type": "markdown",
   "metadata": {
    "collapsed": true
   },
   "source": [
    "# Critical, under & over damping. \n",
    "The oscillator is criticaly damped when $\\omega_{0} = \\gamma^{2}/4$  \n",
    "The oscillator is under damped when $\\omega_{0} > \\gamma^{2}/4$  \n",
    "The oscillator is over damped when $\\omega_{0} < \\gamma^{2}/4$"
   ]
  },
  {
   "cell_type": "code",
   "execution_count": null,
   "metadata": {
    "collapsed": true
   },
   "outputs": [],
   "source": []
  },
  {
   "cell_type": "code",
   "execution_count": null,
   "metadata": {
    "collapsed": true
   },
   "outputs": [],
   "source": []
  }
 ],
 "metadata": {
  "anaconda-cloud": {},
  "celltoolbar": "Slideshow",
  "kernelspec": {
   "display_name": "Python [Root]",
   "language": "python",
   "name": "Python [Root]"
  },
  "language_info": {
   "codemirror_mode": {
    "name": "ipython",
    "version": 2
   },
   "file_extension": ".py",
   "mimetype": "text/x-python",
   "name": "python",
   "nbconvert_exporter": "python",
   "pygments_lexer": "ipython2",
   "version": "2.7.12"
  },
  "livereveal": {
   "theme": "serif",
   "transition": "convex"
  },
  "nbpresent": {
   "slides": {
    "1c51271e-dd76-4044-9e4f-043141554c7a": {
     "id": "1c51271e-dd76-4044-9e4f-043141554c7a",
     "prev": "9eaab8a2-4853-47be-a905-8e52e3fb3d9d",
     "regions": {
      "60fc6e7b-1023-4116-bce6-34fd29c79721": {
       "attrs": {
        "height": 0.8,
        "width": 0.8,
        "x": 0.1,
        "y": 0.1
       },
       "content": {
        "cell": "e7bd4568-f40d-4200-a57d-51838ccdc9d6",
        "part": "whole"
       },
       "id": "60fc6e7b-1023-4116-bce6-34fd29c79721"
      }
     }
    },
    "207ae471-ef55-43e5-a85a-7f0577293d62": {
     "id": "207ae471-ef55-43e5-a85a-7f0577293d62",
     "prev": "a4ae86c6-afb7-4bc4-b52b-1821ceefe3ee",
     "regions": {
      "6934f7dd-e881-488b-9fc2-3be2c9e3acf8": {
       "attrs": {
        "height": 0.8,
        "width": 0.8,
        "x": 0.1,
        "y": 0.1
       },
       "content": {
        "cell": "6f9f2d6a-3285-4ae6-8fc2-1a7d779d8624",
        "part": "whole"
       },
       "id": "6934f7dd-e881-488b-9fc2-3be2c9e3acf8"
      }
     }
    },
    "363065ef-469f-4fbd-b99f-846a401c04da": {
     "id": "363065ef-469f-4fbd-b99f-846a401c04da",
     "prev": "e1fa51cc-4ddb-41af-80f7-316e717637dc",
     "regions": {
      "a7f3f326-a815-417a-af69-cd56e6087db2": {
       "attrs": {
        "height": 0.8,
        "width": 0.8,
        "x": 0.1,
        "y": 0.1
       },
       "content": {
        "cell": "c8184770-285e-4936-bb25-af98b542d5d3",
        "part": "whole"
       },
       "id": "a7f3f326-a815-417a-af69-cd56e6087db2"
      }
     }
    },
    "74ae79dc-5e08-4125-becf-ae99477e3a44": {
     "id": "74ae79dc-5e08-4125-becf-ae99477e3a44",
     "prev": "c75e6b66-4e5e-412e-b026-02fc97996b51",
     "regions": {
      "3a2e911f-3064-41db-8a60-4b4f99943162": {
       "attrs": {
        "height": 0.8,
        "width": 0.8,
        "x": 0.1,
        "y": 0.1
       },
       "content": {
        "cell": "a94938f7-ec34-44f0-aca8-e5ff63d05432",
        "part": "whole"
       },
       "id": "3a2e911f-3064-41db-8a60-4b4f99943162"
      }
     }
    },
    "84d6afac-fa6d-4fff-9494-9de054576748": {
     "id": "84d6afac-fa6d-4fff-9494-9de054576748",
     "prev": "881178d2-2baa-40cb-a53a-44024c31cde2",
     "regions": {
      "f10e4f6b-0ce0-4713-aad9-9e19759308ea": {
       "attrs": {
        "height": 0.8,
        "width": 0.8,
        "x": 0.1,
        "y": 0.1
       },
       "content": {
        "cell": "e33c3b46-e49d-483e-81a0-82a0d9844832",
        "part": "whole"
       },
       "id": "f10e4f6b-0ce0-4713-aad9-9e19759308ea"
      }
     }
    },
    "881178d2-2baa-40cb-a53a-44024c31cde2": {
     "id": "881178d2-2baa-40cb-a53a-44024c31cde2",
     "prev": "e256ef15-c4d5-41c1-8a99-9a2f3eff4693",
     "regions": {
      "b98356d1-d6d9-402d-9a39-e367befae349": {
       "attrs": {
        "height": 0.8,
        "width": 0.8,
        "x": 0.1,
        "y": 0.1
       },
       "content": {
        "cell": "87f27818-4040-4e3e-a47a-ca84437b79d2",
        "part": "whole"
       },
       "id": "b98356d1-d6d9-402d-9a39-e367befae349"
      }
     }
    },
    "9eaab8a2-4853-47be-a905-8e52e3fb3d9d": {
     "id": "9eaab8a2-4853-47be-a905-8e52e3fb3d9d",
     "prev": "363065ef-469f-4fbd-b99f-846a401c04da",
     "regions": {
      "f001e4fb-8865-4b52-9344-4cd4766a6aee": {
       "attrs": {
        "height": 0.8,
        "width": 0.8,
        "x": 0.1,
        "y": 0.1
       },
       "content": {
        "cell": "ab70a903-a94f-4d51-92ab-bb4422942eeb",
        "part": "whole"
       },
       "id": "f001e4fb-8865-4b52-9344-4cd4766a6aee"
      }
     }
    },
    "9f510543-615b-42b6-aa7a-6bfa8aa9b9de": {
     "id": "9f510543-615b-42b6-aa7a-6bfa8aa9b9de",
     "prev": "207ae471-ef55-43e5-a85a-7f0577293d62",
     "regions": {
      "65f392df-b1e9-4bc5-82a8-3ec0ca592508": {
       "attrs": {
        "height": 0.8,
        "width": 0.8,
        "x": 0.1,
        "y": 0.1
       },
       "content": {
        "cell": "3c0328ba-f339-418e-91d1-d9ae6d03295b",
        "part": "whole"
       },
       "id": "65f392df-b1e9-4bc5-82a8-3ec0ca592508"
      }
     }
    },
    "a4ae86c6-afb7-4bc4-b52b-1821ceefe3ee": {
     "id": "a4ae86c6-afb7-4bc4-b52b-1821ceefe3ee",
     "prev": "d8c5c041-26d5-4824-9558-a5635a053688",
     "regions": {
      "62a47fe3-73b0-4c90-904d-a7176f704a09": {
       "attrs": {
        "height": 0.8,
        "width": 0.8,
        "x": 0.1,
        "y": 0.1
       },
       "content": {
        "cell": "e5004b48-f291-41f9-abda-62423e69cc32",
        "part": "whole"
       },
       "id": "62a47fe3-73b0-4c90-904d-a7176f704a09"
      }
     }
    },
    "c75e6b66-4e5e-412e-b026-02fc97996b51": {
     "id": "c75e6b66-4e5e-412e-b026-02fc97996b51",
     "prev": "84d6afac-fa6d-4fff-9494-9de054576748",
     "regions": {
      "657bb269-bf90-4886-aa20-70b8b71168ea": {
       "attrs": {
        "height": 0.8,
        "width": 0.8,
        "x": 0.1,
        "y": 0.1
       },
       "content": {
        "cell": "6b0bd64c-0cfe-404b-bbbb-1db4ced49360",
        "part": "whole"
       },
       "id": "657bb269-bf90-4886-aa20-70b8b71168ea"
      }
     }
    },
    "d73664bb-a380-44ac-8f97-eee577bc1bbf": {
     "id": "d73664bb-a380-44ac-8f97-eee577bc1bbf",
     "prev": "1c51271e-dd76-4044-9e4f-043141554c7a",
     "regions": {
      "09bea9c4-cc5f-4178-b1cd-c0e22be6ade2": {
       "attrs": {
        "height": 0.8,
        "width": 0.8,
        "x": 0.1,
        "y": 0.1
       },
       "content": {
        "cell": "438e877f-2c5c-4d4e-8b4d-22af752dcb18",
        "part": "whole"
       },
       "id": "09bea9c4-cc5f-4178-b1cd-c0e22be6ade2"
      }
     }
    },
    "d8c5c041-26d5-4824-9558-a5635a053688": {
     "id": "d8c5c041-26d5-4824-9558-a5635a053688",
     "prev": "d73664bb-a380-44ac-8f97-eee577bc1bbf",
     "regions": {
      "83f72979-0fc1-4899-b264-549c1558a247": {
       "attrs": {
        "height": 0.8,
        "width": 0.8,
        "x": 0.1,
        "y": 0.1
       },
       "content": {
        "cell": "92634651-1cb2-4a90-b9f4-0d584fb5ff7f",
        "part": "whole"
       },
       "id": "83f72979-0fc1-4899-b264-549c1558a247"
      }
     }
    },
    "e1fa51cc-4ddb-41af-80f7-316e717637dc": {
     "id": "e1fa51cc-4ddb-41af-80f7-316e717637dc",
     "prev": "f80feeba-70e6-4e3e-82b9-867a27024fe2",
     "regions": {
      "08a6e5c3-fc57-41ee-929e-96a116c34513": {
       "attrs": {
        "height": 0.8,
        "width": 0.8,
        "x": 0.1,
        "y": 0.1
       },
       "content": {
        "cell": "9984f366-85dd-4bd5-a536-3e1eb1d5e7e3",
        "part": "whole"
       },
       "id": "08a6e5c3-fc57-41ee-929e-96a116c34513"
      }
     }
    },
    "e256ef15-c4d5-41c1-8a99-9a2f3eff4693": {
     "id": "e256ef15-c4d5-41c1-8a99-9a2f3eff4693",
     "prev": "9f510543-615b-42b6-aa7a-6bfa8aa9b9de",
     "regions": {
      "45ab8f9c-8ef3-4945-b1c0-d79b92731bb2": {
       "attrs": {
        "height": 0.8,
        "width": 0.8,
        "x": 0.1,
        "y": 0.1
       },
       "content": {
        "cell": "563c75ff-9dcf-4a3a-b89a-0dea167a8277",
        "part": "whole"
       },
       "id": "45ab8f9c-8ef3-4945-b1c0-d79b92731bb2"
      }
     }
    },
    "f80feeba-70e6-4e3e-82b9-867a27024fe2": {
     "id": "f80feeba-70e6-4e3e-82b9-867a27024fe2",
     "prev": null,
     "regions": {
      "d801b126-5069-4de6-852d-22daf64a0929": {
       "attrs": {
        "height": 0.8,
        "width": 0.8,
        "x": 0.1,
        "y": 0.1
       },
       "content": {
        "cell": "9b2a77bd-f461-4dec-a3ab-9bef02de8133",
        "part": "whole"
       },
       "id": "d801b126-5069-4de6-852d-22daf64a0929"
      }
     },
     "theme": null
    }
   },
   "themes": {
    "default": "4ed5c83a-1c00-4ac5-bb27-51176eae3d74",
    "theme": {}
   }
  },
  "widgets": {
   "state": {
    "8bb0895d84dd43f89b0d7a0e8a4d752f": {
     "views": [
      {
       "cell_index": 10
      }
     ]
    }
   },
   "version": "1.2.0"
  }
 },
 "nbformat": 4,
 "nbformat_minor": 0
}
