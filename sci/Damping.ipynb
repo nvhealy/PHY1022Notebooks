{
 "cells": [
  {
   "cell_type": "markdown",
   "metadata": {
    "nbpresent": {
     "id": "9b2a77bd-f461-4dec-a3ab-9bef02de8133"
    },
    "slideshow": {
     "slide_type": "-"
    }
   },
   "source": [
    "# Damped Harmonic Motion"
   ]
  },
  {
   "cell_type": "markdown",
   "metadata": {},
   "source": [
    "This notebook provides an interactive environment to explore the concepts of damped harmonic motion"
   ]
  },
  {
   "cell_type": "code",
   "execution_count": 1,
   "metadata": {
    "collapsed": true,
    "nbpresent": {
     "id": "9984f366-85dd-4bd5-a536-3e1eb1d5e7e3"
    },
    "slideshow": {
     "slide_type": "skip"
    }
   },
   "outputs": [],
   "source": [
    "from IPython.display import HTML"
   ]
  },
  {
   "cell_type": "code",
   "execution_count": 2,
   "metadata": {
    "collapsed": false
   },
   "outputs": [
    {
     "data": {
      "text/html": [
       "<script>\n",
       "    // AUTORUN ALL CELLS ON NOTEBOOK-LOAD!\n",
       "    require(\n",
       "        ['base/js/namespace', 'jquery'], \n",
       "        function(jupyter, $) {\n",
       "            $(jupyter.events).on(\"kernel_ready.Kernel\", function () {\n",
       "                console.log(\"Auto-running all cells-below...\");\n",
       "                jupyter.actions.call('jupyter-notebook:run-all-cells-below');\n",
       "                jupyter.actions.call('jupyter-notebook:save-notebook');\n",
       "            });\n",
       "        }\n",
       "    );\n",
       "</script>"
      ],
      "text/plain": [
       "<IPython.core.display.HTML object>"
      ]
     },
     "metadata": {},
     "output_type": "display_data"
    }
   ],
   "source": [
    "%%html\n",
    "<script>\n",
    "    // AUTORUN ALL CELLS ON NOTEBOOK-LOAD!\n",
    "    require(\n",
    "        ['base/js/namespace', 'jquery'], \n",
    "        function(jupyter, $) {\n",
    "            $(jupyter.events).on(\"kernel_ready.Kernel\", function () {\n",
    "                console.log(\"Auto-running all cells-below...\");\n",
    "                jupyter.actions.call('jupyter-notebook:run-all-cells-below');\n",
    "                jupyter.actions.call('jupyter-notebook:save-notebook');\n",
    "            });\n",
    "        }\n",
    "    );\n",
    "</script>"
   ]
  },
  {
   "cell_type": "code",
   "execution_count": 3,
   "metadata": {
    "collapsed": false,
    "nbpresent": {
     "id": "c8184770-285e-4936-bb25-af98b542d5d3"
    },
    "slideshow": {
     "slide_type": "skip"
    }
   },
   "outputs": [
    {
     "data": {
      "text/html": [
       "<script>\n",
       "code_show=true; \n",
       "function code_toggle() {\n",
       " if (code_show){\n",
       " $('div.input').hide();\n",
       " } else {\n",
       " $('div.input').show();\n",
       " }\n",
       " code_show = !code_show\n",
       "} \n",
       "$( document ).ready(code_toggle);\n",
       "</script>\n",
       "The raw code for this IPython notebook is by default hidden for easier reading.\n",
       "To toggle on/off the raw code, click <a href=\"javascript:code_toggle()\">here</a>."
      ],
      "text/plain": [
       "<IPython.core.display.HTML object>"
      ]
     },
     "execution_count": 3,
     "metadata": {},
     "output_type": "execute_result"
    }
   ],
   "source": [
    "HTML('''<script>\n",
    "code_show=true; \n",
    "function code_toggle() {\n",
    " if (code_show){\n",
    " $('div.input').hide();\n",
    " } else {\n",
    " $('div.input').show();\n",
    " }\n",
    " code_show = !code_show\n",
    "} \n",
    "$( document ).ready(code_toggle);\n",
    "</script>\n",
    "The raw code for this IPython notebook is by default hidden for easier reading.\n",
    "To toggle on/off the raw code, click <a href=\"javascript:code_toggle()\">here</a>.''')"
   ]
  },
  {
   "cell_type": "code",
   "execution_count": 4,
   "metadata": {
    "collapsed": false,
    "nbpresent": {
     "id": "ab70a903-a94f-4d51-92ab-bb4422942eeb"
    },
    "slideshow": {
     "slide_type": "skip"
    }
   },
   "outputs": [],
   "source": [
    "%matplotlib inline\n",
    "\n",
    "from ipywidgets import *\n",
    "from scipy import integrate\n",
    "import numpy as np\n",
    "import matplotlib.pyplot as plt\n",
    "t = np.arange(0,2*np.pi,0.01)"
   ]
  },
  {
   "cell_type": "markdown",
   "metadata": {},
   "source": [
    "In real oscillators, friction, or damping, slows the motion of the system. Due to frictional force, the velocity decreases in proportion to the acting frictional force. While simple harmonic motion oscillates with only the restoring force acting on the system, damped harmonic motion experiences friction.  \n",
    "  \n",
    "**Equation for DHM:** \n",
    "$$\\ddot{x} + \\gamma\\dot{x}+{\\omega_{0}}^{2} x = 0$$  \n",
    "  \n",
    "where $\\gamma$ is a coeficient given by:  \n",
    "$$\\gamma = \\frac{b}{m}$$  \n",
    "$b$ is the damping constant "
   ]
  },
  {
   "cell_type": "code",
   "execution_count": null,
   "metadata": {
    "collapsed": true
   },
   "outputs": [],
   "source": []
  },
  {
   "cell_type": "code",
   "execution_count": 5,
   "metadata": {
    "collapsed": true
   },
   "outputs": [],
   "source": [
    "def dampeq(Y, t, omega, gamma):\n",
    "    return [Y[1], -(omega**2)* Y[0]-gamma*Y[1]]"
   ]
  },
  {
   "cell_type": "code",
   "execution_count": 6,
   "metadata": {
    "collapsed": false,
    "nbpresent": {
     "id": "e7bd4568-f40d-4200-a57d-51838ccdc9d6"
    },
    "slideshow": {
     "slide_type": "skip"
    }
   },
   "outputs": [],
   "source": [
    "\n",
    "def damp(critical, omega, gamma):\n",
    "    global t\n",
    "    if critical == 'on':\n",
    "        omega = np.sqrt((gamma**2)/4)\n",
    "    asol = integrate.odeint(dampeq, [1, 0], t, args=(omega, gamma))\n",
    "    fig = plt.plot(t, asol[:,0])\n",
    "    plt.ylim(-1.1,1.1)\n",
    "    plt.xlim(0, 2*np.pi)\n",
    "    plt.xlabel(\"time, s\")\n",
    "    plt.ylabel(\"Amplitude, arb\")\n",
    "    if critical == 'on':\n",
    "        plt.setp(fig, color='g', linewidth=2.0)\n",
    "        plt.legend(['Critical damping'], loc=3)\n",
    "    elif (gamma**2)/4 > omega**2:\n",
    "        plt.setp(fig, color='r', linewidth=2.0)\n",
    "        plt.legend(['Over damping'], loc=3)\n",
    "    else:\n",
    "        plt.setp(fig, color='b', linewidth=2.0)\n",
    "        plt.legend(['Under damping'], loc=3)"
   ]
  },
  {
   "cell_type": "code",
   "execution_count": 7,
   "metadata": {
    "collapsed": false,
    "nbpresent": {
     "id": "438e877f-2c5c-4d4e-8b4d-22af752dcb18"
    },
    "scrolled": false,
    "slideshow": {
     "slide_type": "slide"
    }
   },
   "outputs": [
    {
     "data": {
      "image/png": "[encoded data removed]",
      "text/plain": [
       "<matplotlib.figure.Figure at 0x10ab43f10>"
      ]
     },
     "metadata": {},
     "output_type": "display_data"
    }
   ],
   "source": [
    "interact(damp, critical = RadioButtons(options = ['off', 'on']), omega =(0,10,0.1), gamma = (0,20,0.1));"
   ]
  },
  {
   "cell_type": "markdown",
   "metadata": {
    "collapsed": true
   },
   "source": [
    "# Critical, under & over damping. \n",
    "The oscillator is criticaly damped when $\\omega_{0}^{2} = \\gamma^{2}/4$  \n",
    "The oscillator is under damped when $\\omega_{0}^{2} > \\gamma^{2}/4$  \n",
    "The oscillator is over damped when $\\omega_{0}^{2} < \\gamma^{2}/4$"
   ]
  },
  {
   "cell_type": "code",
   "execution_count": null,
   "metadata": {
    "collapsed": true
   },
   "outputs": [],
   "source": []
  },
  {
   "cell_type": "code",
   "execution_count": null,
   "metadata": {
    "collapsed": true
   },
   "outputs": [],
   "source": []
  }
 ],
 "metadata": {
  "anaconda-cloud": {},
  "celltoolbar": "Slideshow",
  "kernelspec": {
   "display_name": "Python [default]",
   "language": "python",
   "name": "python2"
  },
  "language_info": {
   "codemirror_mode": {
    "name": "ipython",
    "version": 2
   },
   "file_extension": ".py",
   "mimetype": "text/x-python",
   "name": "python",
   "nbconvert_exporter": "python",
   "pygments_lexer": "ipython2",
   "version": "2.7.12"
  },
  "livereveal": {
   "theme": "serif",
   "transition": "convex"
  },
  "nbpresent": {
   "slides": {
    "1c51271e-dd76-4044-9e4f-043141554c7a": {
     "id": "1c51271e-dd76-4044-9e4f-043141554c7a",
     "prev": "9eaab8a2-4853-47be-a905-8e52e3fb3d9d",
     "regions": {
      "60fc6e7b-1023-4116-bce6-34fd29c79721": {
       "attrs": {
        "height": 0.8,
        "width": 0.8,
        "x": 0.1,
        "y": 0.1
       },
       "content": {
        "cell": "e7bd4568-f40d-4200-a57d-51838ccdc9d6",
        "part": "whole"
       },
       "id": "60fc6e7b-1023-4116-bce6-34fd29c79721"
      }
     }
    },
    "207ae471-ef55-43e5-a85a-7f0577293d62": {
     "id": "207ae471-ef55-43e5-a85a-7f0577293d62",
     "prev": "a4ae86c6-afb7-4bc4-b52b-1821ceefe3ee",
     "regions": {
      "6934f7dd-e881-488b-9fc2-3be2c9e3acf8": {
       "attrs": {
        "height": 0.8,
        "width": 0.8,
        "x": 0.1,
        "y": 0.1
       },
       "content": {
        "cell": "6f9f2d6a-3285-4ae6-8fc2-1a7d779d8624",
        "part": "whole"
       },
       "id": "6934f7dd-e881-488b-9fc2-3be2c9e3acf8"
      }
     }
    },
    "363065ef-469f-4fbd-b99f-846a401c04da": {
     "id": "363065ef-469f-4fbd-b99f-846a401c04da",
     "prev": "e1fa51cc-4ddb-41af-80f7-316e717637dc",
     "regions": {
      "a7f3f326-a815-417a-af69-cd56e6087db2": {
       "attrs": {
        "height": 0.8,
        "width": 0.8,
        "x": 0.1,
        "y": 0.1
       },
       "content": {
        "cell": "c8184770-285e-4936-bb25-af98b542d5d3",
        "part": "whole"
       },
       "id": "a7f3f326-a815-417a-af69-cd56e6087db2"
      }
     }
    },
    "74ae79dc-5e08-4125-becf-ae99477e3a44": {
     "id": "74ae79dc-5e08-4125-becf-ae99477e3a44",
     "prev": "c75e6b66-4e5e-412e-b026-02fc97996b51",
     "regions": {
      "3a2e911f-3064-41db-8a60-4b4f99943162": {
       "attrs": {
        "height": 0.8,
        "width": 0.8,
        "x": 0.1,
        "y": 0.1
       },
       "content": {
        "cell": "a94938f7-ec34-44f0-aca8-e5ff63d05432",
        "part": "whole"
       },
       "id": "3a2e911f-3064-41db-8a60-4b4f99943162"
      }
     }
    },
    "84d6afac-fa6d-4fff-9494-9de054576748": {
     "id": "84d6afac-fa6d-4fff-9494-9de054576748",
     "prev": "881178d2-2baa-40cb-a53a-44024c31cde2",
     "regions": {
      "f10e4f6b-0ce0-4713-aad9-9e19759308ea": {
       "attrs": {
        "height": 0.8,
        "width": 0.8,
        "x": 0.1,
        "y": 0.1
       },
       "content": {
        "cell": "e33c3b46-e49d-483e-81a0-82a0d9844832",
        "part": "whole"
       },
       "id": "f10e4f6b-0ce0-4713-aad9-9e19759308ea"
      }
     }
    },
    "881178d2-2baa-40cb-a53a-44024c31cde2": {
     "id": "881178d2-2baa-40cb-a53a-44024c31cde2",
     "prev": "e256ef15-c4d5-41c1-8a99-9a2f3eff4693",
     "regions": {
      "b98356d1-d6d9-402d-9a39-e367befae349": {
       "attrs": {
        "height": 0.8,
        "width": 0.8,
        "x": 0.1,
        "y": 0.1
       },
       "content": {
        "cell": "87f27818-4040-4e3e-a47a-ca84437b79d2",
        "part": "whole"
       },
       "id": "b98356d1-d6d9-402d-9a39-e367befae349"
      }
     }
    },
    "9eaab8a2-4853-47be-a905-8e52e3fb3d9d": {
     "id": "9eaab8a2-4853-47be-a905-8e52e3fb3d9d",
     "prev": "363065ef-469f-4fbd-b99f-846a401c04da",
     "regions": {
      "f001e4fb-8865-4b52-9344-4cd4766a6aee": {
       "attrs": {
        "height": 0.8,
        "width": 0.8,
        "x": 0.1,
        "y": 0.1
       },
       "content": {
        "cell": "ab70a903-a94f-4d51-92ab-bb4422942eeb",
        "part": "whole"
       },
       "id": "f001e4fb-8865-4b52-9344-4cd4766a6aee"
      }
     }
    },
    "9f510543-615b-42b6-aa7a-6bfa8aa9b9de": {
     "id": "9f510543-615b-42b6-aa7a-6bfa8aa9b9de",
     "prev": "207ae471-ef55-43e5-a85a-7f0577293d62",
     "regions": {
      "65f392df-b1e9-4bc5-82a8-3ec0ca592508": {
       "attrs": {
        "height": 0.8,
        "width": 0.8,
        "x": 0.1,
        "y": 0.1
       },
       "content": {
        "cell": "3c0328ba-f339-418e-91d1-d9ae6d03295b",
        "part": "whole"
       },
       "id": "65f392df-b1e9-4bc5-82a8-3ec0ca592508"
      }
     }
    },
    "a4ae86c6-afb7-4bc4-b52b-1821ceefe3ee": {
     "id": "a4ae86c6-afb7-4bc4-b52b-1821ceefe3ee",
     "prev": "d8c5c041-26d5-4824-9558-a5635a053688",
     "regions": {
      "62a47fe3-73b0-4c90-904d-a7176f704a09": {
       "attrs": {
        "height": 0.8,
        "width": 0.8,
        "x": 0.1,
        "y": 0.1
       },
       "content": {
        "cell": "e5004b48-f291-41f9-abda-62423e69cc32",
        "part": "whole"
       },
       "id": "62a47fe3-73b0-4c90-904d-a7176f704a09"
      }
     }
    },
    "c75e6b66-4e5e-412e-b026-02fc97996b51": {
     "id": "c75e6b66-4e5e-412e-b026-02fc97996b51",
     "prev": "84d6afac-fa6d-4fff-9494-9de054576748",
     "regions": {
      "657bb269-bf90-4886-aa20-70b8b71168ea": {
       "attrs": {
        "height": 0.8,
        "width": 0.8,
        "x": 0.1,
        "y": 0.1
       },
       "content": {
        "cell": "6b0bd64c-0cfe-404b-bbbb-1db4ced49360",
        "part": "whole"
       },
       "id": "657bb269-bf90-4886-aa20-70b8b71168ea"
      }
     }
    },
    "d73664bb-a380-44ac-8f97-eee577bc1bbf": {
     "id": "d73664bb-a380-44ac-8f97-eee577bc1bbf",
     "prev": "1c51271e-dd76-4044-9e4f-043141554c7a",
     "regions": {
      "09bea9c4-cc5f-4178-b1cd-c0e22be6ade2": {
       "attrs": {
        "height": 0.8,
        "width": 0.8,
        "x": 0.1,
        "y": 0.1
       },
       "content": {
        "cell": "438e877f-2c5c-4d4e-8b4d-22af752dcb18",
        "part": "whole"
       },
       "id": "09bea9c4-cc5f-4178-b1cd-c0e22be6ade2"
      }
     }
    },
    "d8c5c041-26d5-4824-9558-a5635a053688": {
     "id": "d8c5c041-26d5-4824-9558-a5635a053688",
     "prev": "d73664bb-a380-44ac-8f97-eee577bc1bbf",
     "regions": {
      "83f72979-0fc1-4899-b264-549c1558a247": {
       "attrs": {
        "height": 0.8,
        "width": 0.8,
        "x": 0.1,
        "y": 0.1
       },
       "content": {
        "cell": "92634651-1cb2-4a90-b9f4-0d584fb5ff7f",
        "part": "whole"
       },
       "id": "83f72979-0fc1-4899-b264-549c1558a247"
      }
     }
    },
    "e1fa51cc-4ddb-41af-80f7-316e717637dc": {
     "id": "e1fa51cc-4ddb-41af-80f7-316e717637dc",
     "prev": "f80feeba-70e6-4e3e-82b9-867a27024fe2",
     "regions": {
      "08a6e5c3-fc57-41ee-929e-96a116c34513": {
       "attrs": {
        "height": 0.8,
        "width": 0.8,
        "x": 0.1,
        "y": 0.1
       },
       "content": {
        "cell": "9984f366-85dd-4bd5-a536-3e1eb1d5e7e3",
        "part": "whole"
       },
       "id": "08a6e5c3-fc57-41ee-929e-96a116c34513"
      }
     }
    },
    "e256ef15-c4d5-41c1-8a99-9a2f3eff4693": {
     "id": "e256ef15-c4d5-41c1-8a99-9a2f3eff4693",
     "prev": "9f510543-615b-42b6-aa7a-6bfa8aa9b9de",
     "regions": {
      "45ab8f9c-8ef3-4945-b1c0-d79b92731bb2": {
       "attrs": {
        "height": 0.8,
        "width": 0.8,
        "x": 0.1,
        "y": 0.1
       },
       "content": {
        "cell": "563c75ff-9dcf-4a3a-b89a-0dea167a8277",
        "part": "whole"
       },
       "id": "45ab8f9c-8ef3-4945-b1c0-d79b92731bb2"
      }
     }
    },
    "f80feeba-70e6-4e3e-82b9-867a27024fe2": {
     "id": "f80feeba-70e6-4e3e-82b9-867a27024fe2",
     "prev": null,
     "regions": {
      "d801b126-5069-4de6-852d-22daf64a0929": {
       "attrs": {
        "height": 0.8,
        "width": 0.8,
        "x": 0.1,
        "y": 0.1
       },
       "content": {
        "cell": "9b2a77bd-f461-4dec-a3ab-9bef02de8133",
        "part": "whole"
       },
       "id": "d801b126-5069-4de6-852d-22daf64a0929"
      }
     },
     "theme": null
    }
   },
   "themes": {
    "default": "4ed5c83a-1c00-4ac5-bb27-51176eae3d74",
    "theme": {}
   }
  },
  "widgets": {
   "state": {
    "5c1ed7f6d64e43058ac4571c34d32c07": {
     "views": [
      {
       "cell_index": 10
      }
     ]
    }
   },
   "version": "1.2.0"
  }
 },
 "nbformat": 4,
 "nbformat_minor": 0
}
