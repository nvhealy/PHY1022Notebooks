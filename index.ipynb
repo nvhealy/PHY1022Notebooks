{
 "cells": [
  {
   "cell_type": "markdown",
   "metadata": {},
   "source": [
    "# Interactive Notes for PHY1022  \n",
    "  \n",
    "Once you open the notebook make sure to Click on 'Cell' and the 'Run All'.  \n",
    "  \n",
    "## Index  \n",
    "  \n",
    "[Simple Harmonic Motion](./sci/SHM.ipynb)\n",
    "[Damped Harmonic Motion](./sci/damping.ipynb)\n",
    "[Beats and Lissajous](./sci/Week3BeatsLis.ipynb)\n"
   ]
  },
  {
   "cell_type": "code",
   "execution_count": null,
   "metadata": {
    "collapsed": true
   },
   "outputs": [],
   "source": []
  }
 ],
 "metadata": {
  "anaconda-cloud": {},
  "kernelspec": {
   "display_name": "Python [default]",
   "language": "python",
   "name": "python2"
  },
  "language_info": {
   "codemirror_mode": {
    "name": "ipython",
    "version": 2
   },
   "file_extension": ".py",
   "mimetype": "text/x-python",
   "name": "python",
   "nbconvert_exporter": "python",
   "pygments_lexer": "ipython2",
   "version": "2.7.12"
  }
 },
 "nbformat": 4,
 "nbformat_minor": 1
}
